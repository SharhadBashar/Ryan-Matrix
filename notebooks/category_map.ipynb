{
 "cells": [
  {
   "cell_type": "code",
   "execution_count": 2,
   "id": "3e9036e2",
   "metadata": {},
   "outputs": [],
   "source": [
    "import pickle\n",
    "import pandas as pd\n",
    "from pprint import pprint"
   ]
  },
  {
   "cell_type": "code",
   "execution_count": 3,
   "id": "739b9dc1",
   "metadata": {},
   "outputs": [],
   "source": [
    "def data_preprocess(file_name):\n",
    "    df = pd.read_excel(file_name, skiprows = 1, header = [0, 1])\n",
    "    df.columns = df.columns.map('_'.join)\n",
    "    df = df.rename(columns = {'Unnamed: 0_level_0_Unnamed: 0_level_1': 'category'})\n",
    "    df = df.set_index('category')\n",
    "    df = df.rename(columns = lambda c: c.replace('Gender (D2) [Female]', 'female'))\n",
    "    df = df.rename(columns = lambda c: c.replace('Gender (D2) [Male]', 'male'))\n",
    "    return df\n",
    "\n",
    "def rows_to_keep(df, starts_with):\n",
    "    rows_to_keep = []\n",
    "    for row in list(df.index.values):\n",
    "        if not isinstance(row, str): continue\n",
    "        for start_with in starts_with:\n",
    "            if (row.startswith(start_with)):\n",
    "                rows_to_keep.append([row, row.split('[')[-1].split(']')[0]])\n",
    "    return rows_to_keep\n"
   ]
  },
  {
   "cell_type": "code",
   "execution_count": 4,
   "id": "997b83d3",
   "metadata": {},
   "outputs": [],
   "source": [
    "def get_categories_NL():\n",
    "    file_name = '../data/excel/nl-dentsu-music-yt-ryan-matrix-102022.xlsx'\n",
    "    df = data_preprocess(file_name)\n",
    "    music_rows = rows_to_keep(df, ['Preference music-Yes'])\n",
    "    other_rows = rows_to_keep(df, ['Category vlog/YouTube follow'])\n",
    "    with open('../data/music_categories_NL.pkl', 'wb') as f:\n",
    "        pickle.dump(music_rows, f)\n",
    "    with open('../data/other_categories_NL.pkl', 'wb') as f:\n",
    "        pickle.dump(other_rows, f)\n",
    "        \n",
    "def get_categories_UK():\n",
    "    file_name = '../data/excel/uk-dentsu-music-ryan-matrix-102822.xlsx'\n",
    "    df = data_preprocess(file_name)\n",
    "    music_rows = rows_to_keep(df, ['Type Of Music/Formats You Regularly Listen To'])\n",
    "    with open('../data/music_categories_UK.pkl', 'wb') as f:\n",
    "        pickle.dump(music_rows, f)"
   ]
  },
  {
   "cell_type": "code",
   "execution_count": 5,
   "id": "71af939d",
   "metadata": {},
   "outputs": [],
   "source": [
    "get_categories_NL()\n",
    "get_categories_UK()"
   ]
  },
  {
   "cell_type": "code",
   "execution_count": null,
   "id": "e919b06c",
   "metadata": {},
   "outputs": [],
   "source": []
  }
 ],
 "metadata": {
  "kernelspec": {
   "display_name": "Python 3",
   "language": "python",
   "name": "python3"
  },
  "language_info": {
   "codemirror_mode": {
    "name": "ipython",
    "version": 3
   },
   "file_extension": ".py",
   "mimetype": "text/x-python",
   "name": "python",
   "nbconvert_exporter": "python",
   "pygments_lexer": "ipython3",
   "version": "3.11.1"
  },
  "vscode": {
   "interpreter": {
    "hash": "aee8b7b246df8f9039afb4144a1f6fd8d2ca17a180786b69acc140d282b71a49"
   }
  }
 },
 "nbformat": 4,
 "nbformat_minor": 5
}
