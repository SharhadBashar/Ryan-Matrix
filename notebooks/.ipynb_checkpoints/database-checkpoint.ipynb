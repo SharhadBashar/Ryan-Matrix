{
 "cells": [
  {
   "cell_type": "code",
   "execution_count": 1,
   "id": "fcb58192",
   "metadata": {},
   "outputs": [],
   "source": [
    "import json\n",
    "import pickle\n",
    "import pyodbc\n",
    "import pandas as pd\n",
    "from tqdm import tqdm"
   ]
  },
  {
   "cell_type": "code",
   "execution_count": 2,
   "id": "37b6fa7a",
   "metadata": {},
   "outputs": [],
   "source": [
    "class Database:\n",
    "    def __init__(self, env = 'staging'):\n",
    "        with open('../config/database.json') as file:\n",
    "            database_info = json.load(file)\n",
    "        self.conn_common = self._database_conn(database_info[env], 'common')\n",
    "        self.conn_dmp = self._database_conn(database_info[env], 'dmp')\n",
    "        \n",
    "    def _database_conn(self, database_info, database):\n",
    "        return 'DRIVER={};\\\n",
    "                    SERVER={};\\\n",
    "                    DATABASE={};\\\n",
    "                    UID={};\\\n",
    "                    PWD={};\\\n",
    "                    TrustServerCertificate=yes'.format(\n",
    "            database_info['driver'], database_info['server'], \n",
    "            database_info['database'][database],\n",
    "            database_info['username'], database_info['password']\n",
    "        )\n",
    "\n",
    "    def read_dmp(self):\n",
    "        conn = self.conn_dmp\n",
    "        query = \"\"\"SELECT\n",
    "                        TOP (100) *\n",
    "                   FROM\n",
    "                        dbo.AgeRangeByContentFormatId  \n",
    "                \"\"\"\n",
    "        cursor = pyodbc.connect(conn).cursor()\n",
    "        cursor.execute(query)\n",
    "        print(cursor)\n",
    "        cursor.close()\n",
    "                        \n",
    "    def get_all_content_type(self):\n",
    "        conn = self.conn_common\n",
    "        data = []\n",
    "        query = \"\"\"SELECT \n",
    "                        * \n",
    "                   FROM \n",
    "                        dbo.ContentFormatIabV2\n",
    "                   WHERE \n",
    "                        ParentId IS NOT NULL\n",
    "                \"\"\"\n",
    "        cursor = pyodbc.connect(conn).cursor()\n",
    "        cursor.execute(query)\n",
    "        for row in cursor:\n",
    "            data.append([row[0], row[2]])\n",
    "        cursor.close()\n",
    "        return data\n",
    "    \n",
    "    def get_music_categories(self):\n",
    "        conn = self.conn_common\n",
    "        data = []\n",
    "        query = \"\"\"SELECT \n",
    "                        * \n",
    "                   FROM \n",
    "                        dbo.ContentFormatIabV2\n",
    "                   WHERE \n",
    "                        ParentId IN (338, 339, 363, 371)\n",
    "                \"\"\"\n",
    "        cursor = pyodbc.connect(conn).cursor()\n",
    "        cursor.execute(query)\n",
    "        for row in cursor:\n",
    "            data.append([row[0], row[2]])\n",
    "        cursor.close()\n",
    "        return data\n",
    "    \n",
    "    def write_gender(self, data):\n",
    "        conn = pyodbc.connect(self.conn_dmp)\n",
    "        query = \"\"\"INSERT INTO \n",
    "                    dbo.GenderByContentFormatId (ContentFormatId, CountryCode, IsMale, Percentage, ContentFormatSourceId, GeoItemId)\n",
    "                   VALUES \n",
    "                    ({}, '{}', '{}', {}, 3, Null)\n",
    "                \"\"\".format(data['ContentFormatId'], data['CountryCode'], data['IsMale'], data['Percentage'])\n",
    "        cursor = conn.cursor()\n",
    "        cursor.execute(query)\n",
    "        conn.commit()\n",
    "        cursor.close()\n",
    "        \n",
    "    def write_age(self, data):\n",
    "        conn = pyodbc.connect(self.conn_dmp)\n",
    "        query = \"\"\"INSERT INTO \n",
    "                    dbo.AgeRangeByContentFormatId (ContentFormatId, CountryCode, MinAge, MaxAge, Percentage, ContentFormatSourceId, GeoItemId)\n",
    "                   VALUES \n",
    "                    ({}, '{}', {}, {}, {}, 3, Null)\n",
    "                \"\"\".format(data['ContentFormatId'], data['CountryCode'], data['MinAge'], data['MaxAge'], data['Percentage'])\n",
    "        cursor = conn.cursor()\n",
    "        cursor.execute(query)\n",
    "        conn.commit()\n",
    "        cursor.close()\n",
    "        \n",
    "    def update_us(self):\n",
    "        conn = pyodbc.connect(self.conn_dmp)\n",
    "        query = \"\"\"UPDATE \n",
    "                    dbo.GenderByContentFormatId\n",
    "                   SET \n",
    "                    CountryCode = 'US'\n",
    "                   WHERE \n",
    "                    CountryCode is Null\"\"\"\n",
    "        cursor = conn.cursor()\n",
    "        cursor.execute(query)\n",
    "        conn.commit()\n",
    "        cursor.close()\n",
    "        \n",
    "        conn = pyodbc.connect(self.conn_dmp)\n",
    "        query = \"\"\"UPDATE \n",
    "                    dbo.AgeRangeByContentFormatId\n",
    "                   SET \n",
    "                    CountryCode = 'US'\n",
    "                   WHERE \n",
    "                    CountryCode is Null\"\"\"\n",
    "        cursor = conn.cursor()\n",
    "        cursor.execute(query)\n",
    "        conn.commit()\n",
    "        cursor.close()\n",
    "        "
   ]
  },
  {
   "cell_type": "code",
   "execution_count": 3,
   "id": "98a2ddb7",
   "metadata": {},
   "outputs": [],
   "source": [
    "db = Database()\n",
    "# db.read_dmp()\n",
    "db.update_us()"
   ]
  },
  {
   "cell_type": "code",
   "execution_count": 63,
   "id": "9a4a65b9",
   "metadata": {},
   "outputs": [],
   "source": [
    "def get_all():\n",
    "    all_categories_in_table = db.get_all_content_type()\n",
    "    with open('../data/all_categories_in_table.pkl', 'wb') as file:\n",
    "        pickle.dump(all_categories_in_table, file)\n",
    "    \n",
    "def get_music():\n",
    "    music_categories_in_table = db.get_music_categories()\n",
    "    with open('../data/music_categories_in_table.pkl', 'wb') as file:\n",
    "        pickle.dump(music_categories_in_table, file)"
   ]
  },
  {
   "cell_type": "code",
   "execution_count": 15,
   "id": "cff5acc9",
   "metadata": {},
   "outputs": [],
   "source": [
    "'''\n",
    "data_gender = {\n",
    "    'ContentFormatId': 342,\n",
    "    'CountryCode': 'US',\n",
    "    'IsMale': False,\n",
    "    'Percentage': 12.3\n",
    "}\n",
    "'''\n",
    "\n",
    "def write_gender(country_code):\n",
    "    # df = pd.read_csv('../data/table/df_gender_{}_table.csv'.format(country_code))\n",
    "    df = pd.read_csv('../data/LFM/table/gender.csv')\n",
    "    data = df.to_dict('records')\n",
    "    for row in tqdm(data):\n",
    "        if (row['CountryCode'] == 'UK' or row['CountryCode'] == 'NL'):\n",
    "            continue\n",
    "        db.write_gender(row)\n",
    "    print('Done writing gender data for', country_code)\n",
    "\n",
    "'''\n",
    "data_age = {\n",
    "    'ContentFormatId': 342,\n",
    "    'CountryCode': 'US',\n",
    "    'MinAge': 'Null',\n",
    "    'MaxAge': 24,\n",
    "    'Percentage': 12.3\n",
    "}\n",
    "'''\n",
    "\n",
    "def write_age(country_code):\n",
    "    # df = pd.read_csv('../data/table/df_age_{}_table.csv'.format(country_code))\n",
    "    df = pd.read_csv('../data/LFM/table/age.csv')\n",
    "    data = df.to_dict('records')\n",
    "    for row in tqdm(data):\n",
    "        if (row['MinAge'] == 0): row['MinAge'] = 'Null'\n",
    "        if (row['MaxAge'] == 100): row['MaxAge'] = 'Null'\n",
    "        if (row['CountryCode'] == 'UK' or row['CountryCode'] == 'NL'):\n",
    "            continue\n",
    "        db.write_age(row)\n",
    "    print('Done writing age data for', country_code)"
   ]
  },
  {
   "cell_type": "code",
   "execution_count": 67,
   "id": "acb7ef73",
   "metadata": {},
   "outputs": [
    {
     "name": "stdout",
     "output_type": "stream",
     "text": [
      "Doine writing gender data for NL\n",
      "Doine writing age data for NL\n"
     ]
    }
   ],
   "source": [
    "# write_gender('NL')\n",
    "# write_age('NL')"
   ]
  },
  {
   "cell_type": "code",
   "execution_count": 71,
   "id": "de23f653",
   "metadata": {},
   "outputs": [
    {
     "name": "stdout",
     "output_type": "stream",
     "text": [
      "Doine writing gender data for UK\n",
      "Doine writing age data for UK\n"
     ]
    }
   ],
   "source": [
    "# write_gender('UK')\n",
    "# write_age('UK')"
   ]
  },
  {
   "cell_type": "code",
   "execution_count": 17,
   "id": "d259bdbf",
   "metadata": {},
   "outputs": [
    {
     "name": "stdout",
     "output_type": "stream",
     "text": [
      "Done writing age data for LFM\n"
     ]
    }
   ],
   "source": [
    "# write_gender('LFM')\n",
    "# write_age('LFM')"
   ]
  },
  {
   "cell_type": "code",
   "execution_count": null,
   "id": "23bebfb0",
   "metadata": {},
   "outputs": [],
   "source": []
  },
  {
   "cell_type": "code",
   "execution_count": null,
   "id": "8bc55311",
   "metadata": {},
   "outputs": [],
   "source": []
  }
 ],
 "metadata": {
  "kernelspec": {
   "display_name": "Python 3 (ipykernel)",
   "language": "python",
   "name": "python3"
  },
  "language_info": {
   "codemirror_mode": {
    "name": "ipython",
    "version": 3
   },
   "file_extension": ".py",
   "mimetype": "text/x-python",
   "name": "python",
   "nbconvert_exporter": "python",
   "pygments_lexer": "ipython3",
   "version": "3.11.1"
  },
  "vscode": {
   "interpreter": {
    "hash": "aee8b7b246df8f9039afb4144a1f6fd8d2ca17a180786b69acc140d282b71a49"
   }
  }
 },
 "nbformat": 4,
 "nbformat_minor": 5
}
