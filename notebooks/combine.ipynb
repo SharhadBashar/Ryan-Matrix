{
 "cells": [
  {
   "cell_type": "code",
   "execution_count": 6,
   "metadata": {},
   "outputs": [],
   "source": [
    "import os\n",
    "import pandas as pd"
   ]
  },
  {
   "cell_type": "code",
   "execution_count": 7,
   "metadata": {},
   "outputs": [],
   "source": [
    "save_path = '../data/prod/'\n",
    "age = [\n",
    "    '../data/NL-UK/table/df_age_NL_table.csv',\n",
    "    '../data/NL-UK/table/df_age_UK_table.csv',\n",
    "    '../data/LFM/table/age.csv'\n",
    "]\n",
    "gender = [\n",
    "    '../data/NL-UK/table/df_gender_NL_table.csv',\n",
    "    '../data/NL-UK/table/df_gender_UK_table.csv',\n",
    "    '../data/LFM/table/gender.csv'\n",
    "]"
   ]
  },
  {
   "cell_type": "code",
   "execution_count": 3,
   "metadata": {},
   "outputs": [],
   "source": [
    "age_0 = pd.read_csv(age[0])\n",
    "age_1 = pd.read_csv(age[1])\n",
    "age_2 = pd.read_csv(age[2])\n",
    "\n",
    "gender_0 = pd.read_csv(gender[0])\n",
    "gender_1 = pd.read_csv(gender[1])\n",
    "gender_2 = pd.read_csv(gender[2])"
   ]
  },
  {
   "cell_type": "code",
   "execution_count": 9,
   "metadata": {},
   "outputs": [],
   "source": [
    "age_df = pd.concat([age_0, age_1, age_2], ignore_index = True)\n",
    "age_df.to_csv(os.path.join(save_path, 'age.csv'))"
   ]
  },
  {
   "cell_type": "code",
   "execution_count": 10,
   "metadata": {},
   "outputs": [],
   "source": [
    "gender_df = pd.concat([gender_0, gender_1, gender_2], ignore_index = True)\n",
    "gender_df.to_csv(os.path.join(save_path, 'gender.csv'))"
   ]
  },
  {
   "cell_type": "code",
   "execution_count": null,
   "metadata": {},
   "outputs": [],
   "source": []
  }
 ],
 "metadata": {
  "kernelspec": {
   "display_name": "base",
   "language": "python",
   "name": "python3"
  },
  "language_info": {
   "codemirror_mode": {
    "name": "ipython",
    "version": 3
   },
   "file_extension": ".py",
   "mimetype": "text/x-python",
   "name": "python",
   "nbconvert_exporter": "python",
   "pygments_lexer": "ipython3",
   "version": "3.9.13"
  },
  "orig_nbformat": 4,
  "vscode": {
   "interpreter": {
    "hash": "67cd72ff27ae8893a953a45c4a70704668d46d68477d785131dc39711e1566da"
   }
  }
 },
 "nbformat": 4,
 "nbformat_minor": 2
}
